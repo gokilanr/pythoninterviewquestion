{
  "nbformat": 4,
  "nbformat_minor": 0,
  "metadata": {
    "colab": {
      "provenance": [],
      "authorship_tag": "ABX9TyMIhFIjvxZn/rZrABAzkd1O",
      "include_colab_link": true
    },
    "kernelspec": {
      "name": "python3",
      "display_name": "Python 3"
    },
    "language_info": {
      "name": "python"
    }
  },
  "cells": [
    {
      "cell_type": "markdown",
      "metadata": {
        "id": "view-in-github",
        "colab_type": "text"
      },
      "source": [
        "<a href=\"https://colab.research.google.com/github/gokilanr/pythoninterviewquestion/blob/main/pythoninterviewquestions.ipynb\" target=\"_parent\"><img src=\"https://colab.research.google.com/assets/colab-badge.svg\" alt=\"Open In Colab\"/></a>"
      ]
    },
    {
      "cell_type": "code",
      "execution_count": null,
      "metadata": {
        "colab": {
          "base_uri": "https://localhost:8080/"
        },
        "id": "-a_iv0OVfaRJ",
        "outputId": "09f33142-5e7c-4b1a-cc50-d0cae195fc96"
      },
      "outputs": [
        {
          "output_type": "stream",
          "name": "stdout",
          "text": [
            "[1, 2, 3, 4, 5, 7, 10, 78, 90]\n"
          ]
        }
      ],
      "source": [
        "my_list = [1,2,7,7,7,3,4,5,2,2,3,4,5,78,90,10]\n",
        "unique_list=list(set(my_list))\n",
        "\n",
        "print(unique_list)"
      ]
    },
    {
      "cell_type": "code",
      "source": [
        "unique=[]\n",
        "\n",
        "[unique.append(x) for x in my_list if x not in unique]\n",
        "print(unique)"
      ],
      "metadata": {
        "colab": {
          "base_uri": "https://localhost:8080/"
        },
        "id": "-XuVnrxtf1Ng",
        "outputId": "8e981c49-3604-4a97-b59b-ccf4e69efd59"
      },
      "execution_count": null,
      "outputs": [
        {
          "output_type": "stream",
          "name": "stdout",
          "text": [
            "[1, 2, 7, 3, 4, 5, 78, 90, 10]\n"
          ]
        }
      ]
    },
    {
      "cell_type": "markdown",
      "source": [
        "## difference methd instance method, class method and  static method?"
      ],
      "metadata": {
        "id": "zELyTv7_jhGV"
      }
    },
    {
      "cell_type": "code",
      "source": [
        "class Demo:\n",
        "  def instance_method(self):\n",
        "    pass\n",
        "  @classmethod\n",
        "  def classmethod(cls):\n",
        "    pass\n",
        "  @staticmethod\n",
        "  def staticmethod():\n",
        "    pass\n"
      ],
      "metadata": {
        "id": "-ipoZdkSgZmL"
      },
      "execution_count": null,
      "outputs": []
    },
    {
      "cell_type": "markdown",
      "source": [
        "Great question 👍 Let’s carefully break down what’s happening in your `Demo` class.\n",
        "\n",
        "You’ve defined **three different types of methods** in Python:\n",
        "\n",
        "```python\n",
        "class Demo:\n",
        "    def instance_method(self):\n",
        "        pass\n",
        "\n",
        "    @classmethod\n",
        "    def classmethod(cls):\n",
        "        pass\n",
        "\n",
        "    @staticmethod\n",
        "    def staticmethod():\n",
        "        pass\n",
        "```\n",
        "\n",
        "---\n",
        "\n",
        "## 1. **Instance Method**\n",
        "\n",
        "```python\n",
        "def instance_method(self):\n",
        "    pass\n",
        "```\n",
        "\n",
        "* The most common method type.\n",
        "* **Takes `self` as the first parameter** → refers to the specific object (instance) of the class.\n",
        "* Can access **instance variables** (specific to one object) and **class variables**.\n",
        "* Must be called on an object, not directly on the class (unless you pass an instance manually).\n",
        "\n",
        "✅ Example:\n",
        "\n",
        "```python\n",
        "obj = Demo()\n",
        "obj.instance_method()   # valid\n",
        "Demo.instance_method(obj)  # also valid but rare\n",
        "```\n",
        "\n",
        "---\n",
        "\n",
        "## 2. **Class Method**\n",
        "\n",
        "```python\n",
        "@classmethod\n",
        "def classmethod(cls):\n",
        "    pass\n",
        "```\n",
        "\n",
        "* Defined with the **`@classmethod` decorator**.\n",
        "* **Takes `cls` as the first parameter** → refers to the class itself, not an instance.\n",
        "* Can access and modify **class variables** (shared by all objects).\n",
        "* Can be called on the class or on an instance.\n",
        "\n",
        "✅ Example:\n",
        "\n",
        "```python\n",
        "Demo.classmethod()   # valid\n",
        "obj = Demo()\n",
        "obj.classmethod()    # also valid, but passes class not instance\n",
        "```\n",
        "\n",
        "---\n",
        "\n",
        "## 3. **Static Method**\n",
        "\n",
        "```python\n",
        "@staticmethod\n",
        "def staticmethod():\n",
        "    pass\n",
        "```\n",
        "\n",
        "* Defined with the **`@staticmethod` decorator**.\n",
        "* Does **not take `self` or `cls`** as the first argument.\n",
        "* Behaves just like a **normal function**, but lives inside the class for logical grouping.\n",
        "* Cannot access instance (`self`) or class (`cls`) data unless explicitly passed.\n",
        "\n",
        "✅ Example:\n",
        "\n",
        "```python\n",
        "Demo.staticmethod()   # valid\n",
        "obj = Demo()\n",
        "obj.staticmethod()    # valid, but no instance data is passed\n",
        "```\n",
        "\n",
        "---\n",
        "\n",
        "## Quick Comparison Table\n",
        "\n",
        "| Type                | First Argument | Can Access Instance Data? | Can Access Class Data? | Called On        |\n",
        "| ------------------- | -------------- | ------------------------- | ---------------------- | ---------------- |\n",
        "| **Instance Method** | `self`         | ✅ Yes                     | ✅ Yes                  | Instance         |\n",
        "| **Class Method**    | `cls`          | ❌ No                      | ✅ Yes                  | Class / Instance |\n",
        "| **Static Method**   | none           | ❌ No                      | ❌ No                   | Class / Instance |\n",
        "\n",
        "---\n",
        "\n",
        "👉 In short:\n",
        "\n",
        "* Use **instance methods** when behavior depends on object data.\n",
        "* Use **class methods** when behavior depends on the class as a whole (like alternative constructors).\n",
        "* Use **static methods** for utility functions that logically belong to the class but don’t need access to object/class data.\n",
        "\n",
        "---\n",
        "\n",
        "Would you like me to also show you a **real-world example** of each (like in banking, employees, etc.) so you can see when to use which?\n"
      ],
      "metadata": {
        "id": "1YGVj6foiiy-"
      }
    },
    {
      "cell_type": "markdown",
      "source": [
        "Instance_method: needs object(self)\n",
        "\n",
        "class_method: needs class(cls)\n",
        "\n",
        "static_method: no access to either"
      ],
      "metadata": {
        "id": "vtvUMzHTi3Vt"
      }
    },
    {
      "cell_type": "markdown",
      "source": [
        "Good question 👍 — let’s make the difference **super clear** with explanation, table, and examples.\n",
        "\n",
        "---\n",
        "\n",
        "# 🔑 Difference Between **Instance Method**, **Class Method**, and **Static Method**\n",
        "\n",
        "## 1. **Instance Method**\n",
        "\n",
        "* First parameter: `self` → refers to the **object (instance)**.\n",
        "* Can access **instance variables** (unique per object).\n",
        "* Can also access **class variables** (shared).\n",
        "* Mostly used for **object-specific behavior**.\n",
        "\n",
        "✅ Example:\n",
        "\n",
        "```python\n",
        "class Demo:\n",
        "    def instance_method(self):\n",
        "        return \"I am an instance method\"\n",
        "    \n",
        "obj = Demo()\n",
        "print(obj.instance_method())   # ✅ called using object\n",
        "```\n",
        "\n",
        "---\n",
        "\n",
        "## 2. **Class Method**\n",
        "\n",
        "* Declared with `@classmethod`.\n",
        "* First parameter: `cls` → refers to the **class itself**.\n",
        "* Can access/modify **class variables**, but **cannot directly access instance variables**.\n",
        "* Mostly used for **class-level operations** (like alternative constructors or changing class-wide data).\n",
        "\n",
        "✅ Example:\n",
        "\n",
        "```python\n",
        "class Demo:\n",
        "    x = 10   # class variable\n",
        "\n",
        "    @classmethod\n",
        "    def class_method(cls):\n",
        "        return f\"Class variable x = {cls.x}\"\n",
        "\n",
        "print(Demo.class_method())  # ✅ called using class\n",
        "```\n",
        "\n",
        "---\n",
        "\n",
        "## 3. **Static Method**\n",
        "\n",
        "* Declared with `@staticmethod`.\n",
        "* No `self` and no `cls`.\n",
        "* Acts like a **normal function**, but is placed inside the class for logical grouping.\n",
        "* Cannot access **instance** or **class** variables unless explicitly passed.\n",
        "* Mostly used for **utility/helper functions**.\n",
        "\n",
        "✅ Example:\n",
        "\n",
        "```python\n",
        "class Demo:\n",
        "    @staticmethod\n",
        "    def static_method():\n",
        "        return \"I am a static method\"\n",
        "\n",
        "print(Demo.static_method())  # ✅ called using class\n",
        "```\n",
        "\n",
        "---\n",
        "\n",
        "# 📊 Comparison Table\n",
        "\n",
        "| Feature              | Instance Method | Class Method     | Static Method         |\n",
        "| -------------------- | --------------- | ---------------- | --------------------- |\n",
        "| Decorator needed?    | ❌ No            | ✅ `@classmethod` | ✅ `@staticmethod`     |\n",
        "| First Argument       | `self`          | `cls`            | None                  |\n",
        "| Works on             | Instance        | Class            | Neither (independent) |\n",
        "| Access Instance Data | ✅ Yes           | ❌ No             | ❌ No                  |\n",
        "| Access Class Data    | ✅ Yes           | ✅ Yes            | ❌ No                  |\n",
        "| Called by            | Instance        | Class / Instance | Class / Instance      |\n",
        "| Use case             | Object logic    | Class-wide logic | Utility functions     |\n",
        "\n",
        "---\n",
        "\n",
        "# 🔥 Real-life Analogy\n",
        "\n",
        "Imagine a **Car Factory**:\n",
        "\n",
        "* **Instance Method** → \"Start this car engine.\" (depends on a specific car).\n",
        "* **Class Method** → \"Change default car color for all future cars.\" (affects the whole factory).\n",
        "* **Static Method** → \"Check if a given car number plate format is valid.\" (a general utility, doesn’t depend on car or factory).\n",
        "\n",
        "---\n",
        "\n",
        "👉 Do you want me to also give you a **side-by-side code demo** of all 3 in one class so you can directly see the difference while running?\n"
      ],
      "metadata": {
        "id": "SJofkSUBjcV3"
      }
    },
    {
      "cell_type": "markdown",
      "source": [
        "# 6. What is use of * args and **kwargs?"
      ],
      "metadata": {
        "id": "emW2s3H2ju34"
      }
    },
    {
      "cell_type": "code",
      "source": [
        "def func(*args,**kwargs):\n",
        "  print(args)\n",
        "  print(kwargs)\n",
        "\n",
        "func(1,22,3, o = 90, i = 8)"
      ],
      "metadata": {
        "colab": {
          "base_uri": "https://localhost:8080/"
        },
        "id": "IOfI0Op0ihzw",
        "outputId": "ebcc0065-64f7-43a0-9b5b-f8906e20d1cd"
      },
      "execution_count": null,
      "outputs": [
        {
          "output_type": "stream",
          "name": "stdout",
          "text": [
            "(1, 22, 3)\n",
            "{'o': 90, 'i': 8}\n"
          ]
        }
      ]
    },
    {
      "cell_type": "markdown",
      "source": [
        "Great question 🚀 — let’s break it down step by step with your example.\n",
        "\n",
        "---\n",
        "\n",
        "## 📌 Your Code\n",
        "\n",
        "```python\n",
        "def func(*args, **kwargs):\n",
        "    print(args)\n",
        "    print(kwargs)\n",
        "\n",
        "func(1, 22, 3, o=90, i=8)\n",
        "```\n",
        "\n",
        "### Output:\n",
        "\n",
        "```\n",
        "(1, 22, 3)\n",
        "{'o': 90, 'i': 8}\n",
        "```\n",
        "\n",
        "---\n",
        "\n",
        "## 🔑 What `*args` and `**kwargs` Mean\n",
        "\n",
        "### 1. **`*args`**\n",
        "\n",
        "* Stands for **arbitrary positional arguments**.\n",
        "* Collects **all extra positional arguments** into a **tuple**.\n",
        "* Use when you **don’t know in advance how many positional arguments** will be passed.\n",
        "\n",
        "👉 In your example:\n",
        "\n",
        "```python\n",
        "args = (1, 22, 3)\n",
        "```\n",
        "\n",
        "---\n",
        "\n",
        "### 2. **`**kwargs`**\n",
        "\n",
        "* Stands for **arbitrary keyword arguments**.\n",
        "* Collects **all extra keyword arguments** into a **dictionary**.\n",
        "* Use when you **don’t know in advance what keyword arguments** will be passed.\n",
        "\n",
        "👉 In your example:\n",
        "\n",
        "```python\n",
        "kwargs = {'o': 90, 'i': 8}\n",
        "```\n",
        "\n",
        "---\n",
        "\n",
        "## ✅ Why Useful?\n",
        "\n",
        "### Example 1: Flexible Functions\n",
        "\n",
        "```python\n",
        "def add_numbers(*args):\n",
        "    return sum(args)\n",
        "\n",
        "print(add_numbers(1, 2, 3, 4, 5))  # 15\n",
        "```\n",
        "\n",
        "➡ `*args` allows passing any number of values.\n",
        "\n",
        "---\n",
        "\n",
        "### Example 2: Passing Options\n",
        "\n",
        "```python\n",
        "def describe_person(name, **kwargs):\n",
        "    print(f\"Name: {name}\")\n",
        "    for key, value in kwargs.items():\n",
        "        print(f\"{key}: {value}\")\n",
        "\n",
        "describe_person(\"Alice\", age=25, city=\"London\", hobby=\"Chess\")\n",
        "```\n",
        "\n",
        "Output:\n",
        "\n",
        "```\n",
        "Name: Alice\n",
        "age: 25\n",
        "city: London\n",
        "hobby: Chess\n",
        "```\n",
        "\n",
        "➡ `**kwargs` lets you pass optional info without fixing parameter names.\n",
        "\n",
        "---\n",
        "\n",
        "### Example 3: Mixing Both\n",
        "\n",
        "```python\n",
        "def demo(*args, **kwargs):\n",
        "    print(\"args =\", args)\n",
        "    print(\"kwargs =\", kwargs)\n",
        "\n",
        "demo(10, 20, 30, a=1, b=2)\n",
        "```\n",
        "\n",
        "Output:\n",
        "\n",
        "```\n",
        "args = (10, 20, 30)\n",
        "kwargs = {'a': 1, 'b': 2}\n",
        "```\n",
        "\n",
        "---\n",
        "\n",
        "## 📊 Summary\n",
        "\n",
        "* **`*args` → tuple of positional arguments** (flexible number).\n",
        "* **`**kwargs` → dict of keyword arguments** (flexible name-value pairs).\n",
        "* Used to write **general, reusable, and flexible functions**.\n",
        "\n",
        "---\n",
        "\n",
        "👉 Do you want me to also show how `*args` and `**kwargs` are used in **class methods (OOP)**? That’s a common **interview question**.\n"
      ],
      "metadata": {
        "id": "C0QRcbVMkUZK"
      }
    },
    {
      "cell_type": "markdown",
      "source": [
        ". Using *args in a Class Constructor"
      ],
      "metadata": {
        "id": "bXuxkoz3kpwn"
      }
    },
    {
      "cell_type": "code",
      "source": [
        "class Student:\n",
        "    def __init__(self, name, *subjects):\n",
        "        self.name = name\n",
        "        self.subjects = subjects   # tuple of subjects\n",
        "\n",
        "    def show(self):\n",
        "        print(f\"Student: {self.name}\")\n",
        "        print(\"Subjects:\", self.subjects)\n",
        "\n",
        "s1 = Student(\"Alice\", \"Math\", \"Physics\", \"Chemistry\")\n",
        "s1.show()\n"
      ],
      "metadata": {
        "colab": {
          "base_uri": "https://localhost:8080/"
        },
        "id": "08wRQVXfkGme",
        "outputId": "74724024-8d19-4b16-969a-fe4ff9055ea4"
      },
      "execution_count": null,
      "outputs": [
        {
          "output_type": "stream",
          "name": "stdout",
          "text": [
            "Student: Alice\n",
            "Subjects: ('Math', 'Physics', 'Chemistry')\n"
          ]
        }
      ]
    },
    {
      "cell_type": "markdown",
      "source": [
        "Using **kwargs in a Class Constructor"
      ],
      "metadata": {
        "id": "FazUq8J2kuW9"
      }
    },
    {
      "cell_type": "code",
      "source": [
        "class Employee:\n",
        "    def __init__(self, name, **details):\n",
        "        self.name = name\n",
        "        self.details = details   # dict of extra info\n",
        "\n",
        "    def show(self):\n",
        "        print(f\"Employee: {self.name}\")\n",
        "        for key, value in self.details.items():\n",
        "            print(f\"{key}: {value}\")\n",
        "\n",
        "e1 = Employee(\"Bob\", age=30, dept=\"IT\", salary=50000)\n",
        "e1.show()\n"
      ],
      "metadata": {
        "colab": {
          "base_uri": "https://localhost:8080/"
        },
        "id": "ED_rYVCVkmoS",
        "outputId": "5ad0668c-ddd1-4bf0-d782-418d361cd98d"
      },
      "execution_count": null,
      "outputs": [
        {
          "output_type": "stream",
          "name": "stdout",
          "text": [
            "Employee: Bob\n",
            "age: 30\n",
            "dept: IT\n",
            "salary: 50000\n"
          ]
        }
      ]
    },
    {
      "cell_type": "markdown",
      "source": [
        "Here, **details allows flexible extra information for employees."
      ],
      "metadata": {
        "id": "jEQmyBdtk0CW"
      }
    },
    {
      "cell_type": "markdown",
      "source": [
        "Mixing Both *args and **kwargs"
      ],
      "metadata": {
        "id": "pOaRX4Hfk3cs"
      }
    },
    {
      "cell_type": "code",
      "source": [
        "class Demo:\n",
        "    def __init__(self, *args, **kwargs):\n",
        "        self.args = args\n",
        "        self.kwargs = kwargs\n",
        "\n",
        "    def show(self):\n",
        "        print(\"args:\", self.args)\n",
        "        print(\"kwargs:\", self.kwargs)\n",
        "\n",
        "obj = Demo(10, 20, 30, name=\"Alice\", age=25)\n",
        "obj.show()\n"
      ],
      "metadata": {
        "colab": {
          "base_uri": "https://localhost:8080/"
        },
        "id": "hRjJPYi5kwcz",
        "outputId": "aa7dd779-9296-4e00-bb16-7908ca5dc560"
      },
      "execution_count": null,
      "outputs": [
        {
          "output_type": "stream",
          "name": "stdout",
          "text": [
            "args: (10, 20, 30)\n",
            "kwargs: {'name': 'Alice', 'age': 25}\n"
          ]
        }
      ]
    },
    {
      "cell_type": "markdown",
      "source": [
        "Very flexible: you can pass any number of positional and keyword arguments."
      ],
      "metadata": {
        "id": "WWuj4pVXk91o"
      }
    },
    {
      "cell_type": "markdown",
      "source": [
        "In Inheritance (Important in Interviews)\n",
        "\n",
        "Sometimes child classes don’t know all parent parameters. *args and **kwargs help pass them flexibly."
      ],
      "metadata": {
        "id": "cuCRQsbBlAyk"
      }
    },
    {
      "cell_type": "code",
      "source": [
        "class Person:\n",
        "    def __init__(self, name, age, **kwargs):\n",
        "        self.name = name\n",
        "        self.age = age\n",
        "        self.extra = kwargs\n",
        "\n",
        "class Student(Person):\n",
        "    def __init__(self, name, age, roll, **kwargs):\n",
        "        super().__init__(name, age, **kwargs)  # forward unknown args\n",
        "        self.roll = roll\n",
        "\n",
        "s = Student(\"Charlie\", 20, 101, city=\"Delhi\", hobby=\"Cricket\")\n",
        "print(s.name, s.age, s.roll, s.extra)\n"
      ],
      "metadata": {
        "colab": {
          "base_uri": "https://localhost:8080/"
        },
        "id": "ha7XYBrbk6bF",
        "outputId": "a73f8796-b4f8-42dd-bb3e-d2673b5ac134"
      },
      "execution_count": null,
      "outputs": [
        {
          "output_type": "stream",
          "name": "stdout",
          "text": [
            "Charlie 20 101 {'city': 'Delhi', 'hobby': 'Cricket'}\n"
          ]
        }
      ]
    },
    {
      "cell_type": "markdown",
      "source": [
        "Here, **kwargs ensures extra attributes are not lost when subclassing."
      ],
      "metadata": {
        "id": "NIC2kv3rlGkO"
      }
    },
    {
      "cell_type": "markdown",
      "source": [
        "Summary (OOP Use Cases)\n",
        "\n",
        "*args → Pass flexible list/tuple of data (like subjects, marks, numbers).\n",
        "\n",
        "**kwargs → Pass flexible dictionary of data (like details, properties).\n",
        "\n",
        "Both → Make constructors & methods reusable and future-proof.\n",
        "\n",
        "Inheritance → Forward unknown parameters to parent class safely."
      ],
      "metadata": {
        "id": "ul00ofIulLlz"
      }
    },
    {
      "cell_type": "markdown",
      "source": [
        "#What's the difference between loc[] and iloc[] in pandas?\n",
        "\n"
      ],
      "metadata": {
        "id": "n8F_UoEQmT3D"
      }
    },
    {
      "cell_type": "markdown",
      "source": [
        "In **Pandas**, `loc[]` and `iloc[]` are both used for **indexing and selecting data**, but they behave differently. Here’s a clear breakdown:\n",
        "\n",
        "---\n",
        "\n",
        "### 1. **`loc[]` – Label-based selection**\n",
        "\n",
        "* Selects rows and columns **by labels** (index name or column name).\n",
        "* Inclusive of the **end** when slicing.\n",
        "* Can accept boolean arrays, lists of labels, or single labels.\n",
        "\n",
        "**Syntax examples:**\n",
        "\n",
        "```python\n",
        "import pandas as pd\n",
        "\n",
        "df = pd.DataFrame({\n",
        "    'A': [10, 20, 30],\n",
        "    'B': [40, 50, 60]\n",
        "}, index=['x', 'y', 'z'])\n",
        "\n",
        "# Single row by label\n",
        "print(df.loc['y'])\n",
        "# Output: A 20, B 50\n",
        "\n",
        "# Multiple rows and columns by labels\n",
        "print(df.loc[['x', 'z'], ['A']])\n",
        "# Output:\n",
        "#    A\n",
        "# x  10\n",
        "# z  30\n",
        "\n",
        "# Slice by labels (inclusive)\n",
        "print(df.loc['x':'y', 'A':'B'])\n",
        "# Output:\n",
        "#    A   B\n",
        "# x  10  40\n",
        "# y  20  50\n",
        "```\n",
        "\n",
        "✅ **Key:** works with **index and column names**.\n",
        "\n",
        "---\n",
        "\n",
        "### 2. **`iloc[]` – Integer-location based selection**\n",
        "\n",
        "* Selects rows and columns **by integer positions** (like standard Python indexing).\n",
        "* End of slice is **exclusive** (like normal Python slices).\n",
        "\n",
        "**Syntax examples:**\n",
        "\n",
        "```python\n",
        "# Single row by position\n",
        "print(df.iloc[1])\n",
        "# Output: A 20, B 50\n",
        "\n",
        "# Multiple rows and columns by positions\n",
        "print(df.iloc[[0, 2], [0]])\n",
        "# Output:\n",
        "#    A\n",
        "# x  10\n",
        "# z  30\n",
        "\n",
        "# Slice by positions (end exclusive)\n",
        "print(df.iloc[0:2, 0:2])\n",
        "# Output:\n",
        "#    A   B\n",
        "# x  10  40\n",
        "# y  20  50\n",
        "```\n",
        "\n",
        "✅ **Key:** works with **integer positions** only.\n",
        "\n",
        "---\n",
        "\n",
        "### 3. **Quick comparison table**\n",
        "\n",
        "| Feature        | `loc[]`                              | `iloc[]`                         |\n",
        "| -------------- | ------------------------------------ | -------------------------------- |\n",
        "| Indexing type  | Labels (names)                       | Integer positions                |\n",
        "| Slice behavior | End **inclusive**                    | End **exclusive**                |\n",
        "| Accepts        | Label, list of labels, boolean array | Integer, list of integers, slice |\n",
        "| Example        | `df.loc['x':'y', 'A']`               | `df.iloc[0:2, 0]`                |\n",
        "\n",
        "---\n",
        "\n",
        "💡 **Tip:** If your DataFrame index is numeric but not starting from 0 (e.g., `[1,2,3]`), `loc` will use the actual **index values**, while `iloc` will still use **position numbers**. This is a common source of confusion.\n",
        "\n",
        "---\n",
        "\n",
        "If you want, I can make a **small diagram showing `loc` vs `iloc` visually**, which makes it super easy to remember. Do you want me to do that?\n"
      ],
      "metadata": {
        "id": "UfhEbQZHmRGq"
      }
    },
    {
      "cell_type": "code",
      "source": [
        "import pandas as pd\n",
        "\n",
        "df = pd.DataFrame({\n",
        "    'A': [10, 20, 30],\n",
        "    'B': [40, 50, 60]\n",
        "}, index=['x', 'y', 'z'])\n",
        "\n",
        "# Single row by label\n",
        "print(df.loc['y'])"
      ],
      "metadata": {
        "id": "aPBclBe0lDX7",
        "colab": {
          "base_uri": "https://localhost:8080/"
        },
        "outputId": "188110b3-2509-4b9c-a16e-7d84049ad67a"
      },
      "execution_count": null,
      "outputs": [
        {
          "output_type": "stream",
          "name": "stdout",
          "text": [
            "A    20\n",
            "B    50\n",
            "Name: y, dtype: int64\n"
          ]
        }
      ]
    },
    {
      "cell_type": "code",
      "source": [
        "# Multiple rows and columns by labels\n",
        "print(df.loc[['x', 'z'], ['A']])\n",
        "# Output:\n",
        "#    A\n",
        "# x  10\n",
        "# z  30\n",
        "\n",
        "# Slice by labels (inclusive)\n",
        "print(df.loc['x':'y', 'A':'B'])\n",
        "# Output:\n",
        "#    A   B\n",
        "# x  10  40\n",
        "# y  20  50"
      ],
      "metadata": {
        "colab": {
          "base_uri": "https://localhost:8080/"
        },
        "id": "ViL7csLqmhzW",
        "outputId": "b9a76a96-377b-4000-b5f3-75da6fa96682"
      },
      "execution_count": null,
      "outputs": [
        {
          "output_type": "stream",
          "name": "stdout",
          "text": [
            "    A\n",
            "x  10\n",
            "z  30\n",
            "    A   B\n",
            "x  10  40\n",
            "y  20  50\n"
          ]
        }
      ]
    },
    {
      "cell_type": "code",
      "source": [
        "# Single row by position\n",
        "print(df.iloc[1])\n",
        "# Output: A 20, B 50\n",
        "\n",
        "# Multiple rows and columns by positions\n",
        "print(df.iloc[[0, 2], [0]])\n",
        "# Output:\n",
        "#    A\n",
        "# x  10\n",
        "# z  30\n",
        "\n",
        "# Slice by positions (end exclusive)\n",
        "print(df.iloc[0:2, 0:2])\n",
        "# Output:\n",
        "#    A   B\n",
        "# x  10  40\n",
        "# y  20  50\n"
      ],
      "metadata": {
        "colab": {
          "base_uri": "https://localhost:8080/"
        },
        "id": "PeQxN_ofmnxe",
        "outputId": "56ed632e-386e-421d-fead-574001315f00"
      },
      "execution_count": null,
      "outputs": [
        {
          "output_type": "stream",
          "name": "stdout",
          "text": [
            "A    20\n",
            "B    50\n",
            "Name: y, dtype: int64\n",
            "    A\n",
            "x  10\n",
            "z  30\n",
            "    A   B\n",
            "x  10  40\n",
            "y  20  50\n"
          ]
        }
      ]
    },
    {
      "cell_type": "markdown",
      "source": [
        "#how do you merge two dataframes in pandas"
      ],
      "metadata": {
        "id": "2Z0ZhNzWnYBi"
      }
    },
    {
      "cell_type": "markdown",
      "source": [
        "In **Pandas**, merging two DataFrames is done using the **`merge()`** function, which is very similar to SQL joins. You can merge based on **columns or indexes**. Here's a detailed guide:\n",
        "\n",
        "---\n",
        "\n",
        "### 1. **Basic syntax**\n",
        "\n",
        "```python\n",
        "pd.merge(left_df, right_df, how='inner', on='column_name')\n",
        "```\n",
        "\n",
        "* `left_df` = first DataFrame\n",
        "* `right_df` = second DataFrame\n",
        "* `how` = type of merge: `'inner'`, `'left'`, `'right'`, `'outer'`\n",
        "* `on` = column(s) to join on\n",
        "\n",
        "---\n",
        "\n",
        "### 2. **Types of merge (joins)**\n",
        "\n",
        "| `how`   | Description                                                 | Result               |\n",
        "| ------- | ----------------------------------------------------------- | -------------------- |\n",
        "| `inner` | Only rows with matching keys in both DataFrames             | Intersection of keys |\n",
        "| `left`  | All rows from left, matching rows from right                | Left join            |\n",
        "| `right` | All rows from right, matching rows from left                | Right join           |\n",
        "| `outer` | All rows from both DataFrames, fill missing values with NaN | Full outer join      |\n",
        "\n",
        "---\n",
        "\n",
        "### 3. **Examples**\n",
        "\n",
        "#### Example DataFrames:\n",
        "\n",
        "```python\n",
        "import pandas as pd\n",
        "\n",
        "df1 = pd.DataFrame({\n",
        "    'ID': [1, 2, 3],\n",
        "    'Name': ['Alice', 'Bob', 'Charlie']\n",
        "})\n",
        "\n",
        "df2 = pd.DataFrame({\n",
        "    'ID': [2, 3, 4],\n",
        "    'Age': [25, 30, 40]\n",
        "})\n",
        "```\n",
        "\n",
        "#### a) **Inner merge**\n",
        "\n",
        "```python\n",
        "merged = pd.merge(df1, df2, how='inner', on='ID')\n",
        "print(merged)\n",
        "```\n",
        "\n",
        "**Output:**\n",
        "\n",
        "```\n",
        "   ID    Name  Age\n",
        "0   2     Bob   25\n",
        "1   3  Charlie   30\n",
        "```\n",
        "\n",
        "#### b) **Left merge**\n",
        "\n",
        "```python\n",
        "merged = pd.merge(df1, df2, how='left', on='ID')\n",
        "print(merged)\n",
        "```\n",
        "\n",
        "**Output:**\n",
        "\n",
        "```\n",
        "   ID    Name   Age\n",
        "0   1   Alice   NaN\n",
        "1   2     Bob  25.0\n",
        "2   3  Charlie 30.0\n",
        "```\n",
        "\n",
        "#### c) **Outer merge**\n",
        "\n",
        "```python\n",
        "merged = pd.merge(df1, df2, how='outer', on='ID')\n",
        "print(merged)\n",
        "```\n",
        "\n",
        "**Output:**\n",
        "\n",
        "```\n",
        "   ID    Name   Age\n",
        "0   1   Alice   NaN\n",
        "1   2     Bob  25.0\n",
        "2   3  Charlie 30.0\n",
        "3   4     NaN  40.0\n",
        "```\n",
        "\n",
        "---\n",
        "\n",
        "### 4. **Merge on different column names**\n",
        "\n",
        "```python\n",
        "df1 = pd.DataFrame({'EmpID': [1,2,3], 'Name':['Alice','Bob','Charlie']})\n",
        "df2 = pd.DataFrame({'ID': [2,3,4], 'Age':[25,30,40]})\n",
        "\n",
        "merged = pd.merge(df1, df2, left_on='EmpID', right_on='ID', how='inner')\n",
        "print(merged)\n",
        "```\n",
        "\n",
        "**Output:**\n",
        "\n",
        "```\n",
        "   EmpID     Name  ID  Age\n",
        "0      2      Bob   2   25\n",
        "1      3  Charlie   3   30\n",
        "```\n",
        "\n",
        "---\n",
        "\n",
        "### 5. **Merging on index**\n",
        "\n",
        "```python\n",
        "merged = pd.merge(df1, df2, left_index=True, right_index=True, how='outer')\n",
        "```\n",
        "\n",
        "---\n",
        "\n",
        "💡 **Tip:** For **multiple key columns**, pass a list to `on`, like `on=['col1','col2']`.\n",
        "\n",
        "---\n",
        "\n",
        "If you want, I can also explain **the difference between `merge()`, `join()`, and `concat()` in Pandas**, which confuses many people. Do you want me to do that?\n"
      ],
      "metadata": {
        "id": "-PCAX3ERnepw"
      }
    },
    {
      "cell_type": "code",
      "source": [
        "import pandas as pd\n",
        "\n",
        "df1 = pd.DataFrame({\n",
        "    'ID': [1, 2, 3],\n",
        "    'Name': ['Alice', 'Bob', 'Charlie']\n",
        "})\n",
        "\n",
        "df2 = pd.DataFrame({\n",
        "    'ID': [2, 3, 4],\n",
        "    'Age': [25, 30, 40]\n",
        "})\n"
      ],
      "metadata": {
        "id": "mzCTXZv6n25O"
      },
      "execution_count": null,
      "outputs": []
    },
    {
      "cell_type": "code",
      "source": [
        "merged = pd.merge(df1, df2, how='inner', on='ID')\n",
        "print(merged)\n"
      ],
      "metadata": {
        "colab": {
          "base_uri": "https://localhost:8080/"
        },
        "id": "J8lhKi3VoPIG",
        "outputId": "77616f6e-0d2c-44bd-e4af-25ce5cfc5a42"
      },
      "execution_count": null,
      "outputs": [
        {
          "output_type": "stream",
          "name": "stdout",
          "text": [
            "   ID     Name  Age\n",
            "0   2      Bob   25\n",
            "1   3  Charlie   30\n"
          ]
        }
      ]
    },
    {
      "cell_type": "code",
      "source": [
        "merged = pd.merge(df1, df2, how='left', on='ID')\n",
        "print(merged)\n"
      ],
      "metadata": {
        "colab": {
          "base_uri": "https://localhost:8080/"
        },
        "id": "MRGel5PgoRUj",
        "outputId": "d3426afc-d133-47a9-8e5e-0a423660ffaa"
      },
      "execution_count": null,
      "outputs": [
        {
          "output_type": "stream",
          "name": "stdout",
          "text": [
            "   ID     Name   Age\n",
            "0   1    Alice   NaN\n",
            "1   2      Bob  25.0\n",
            "2   3  Charlie  30.0\n"
          ]
        }
      ]
    },
    {
      "cell_type": "code",
      "source": [
        "merged = pd.merge(df1, df2, how='outer', on='ID')\n",
        "print(merged)\n"
      ],
      "metadata": {
        "colab": {
          "base_uri": "https://localhost:8080/"
        },
        "id": "g9sttXdNoTxA",
        "outputId": "b7112072-2498-4435-e88f-70cb582f28c7"
      },
      "execution_count": null,
      "outputs": [
        {
          "output_type": "stream",
          "name": "stdout",
          "text": [
            "   ID     Name   Age\n",
            "0   1    Alice   NaN\n",
            "1   2      Bob  25.0\n",
            "2   3  Charlie  30.0\n",
            "3   4      NaN  40.0\n"
          ]
        }
      ]
    },
    {
      "cell_type": "code",
      "source": [
        "df1 = pd.DataFrame({'EmpID': [1,2,3], 'Name':['Alice','Bob','Charlie']})\n",
        "df2 = pd.DataFrame({'ID': [2,3,4], 'Age':[25,30,40]})\n",
        "\n",
        "merged = pd.merge(df1, df2, left_on='EmpID', right_on='ID', how='inner')\n",
        "print(merged)\n"
      ],
      "metadata": {
        "colab": {
          "base_uri": "https://localhost:8080/"
        },
        "id": "NaZqH2pyobMR",
        "outputId": "bfa2c837-4b95-4078-963d-9eae2a2c54fb"
      },
      "execution_count": null,
      "outputs": [
        {
          "output_type": "stream",
          "name": "stdout",
          "text": [
            "   EmpID     Name  ID  Age\n",
            "0      2      Bob   2   25\n",
            "1      3  Charlie   3   30\n"
          ]
        }
      ]
    },
    {
      "cell_type": "code",
      "source": [
        "merged = pd.merge(df1, df2, left_index=True, right_index=True, how='outer')\n"
      ],
      "metadata": {
        "id": "fUTdpgV5odnZ"
      },
      "execution_count": null,
      "outputs": []
    },
    {
      "cell_type": "markdown",
      "source": [
        "In **Pandas**, `concat()` is used to **combine DataFrames or Series along a particular axis**. It’s different from `merge()` because it **doesn’t require a key column** — it’s more about stacking data **vertically or horizontally**.\n",
        "\n",
        "Here’s a detailed explanation:\n",
        "\n",
        "---\n",
        "\n",
        "### 1. **Basic syntax**\n",
        "\n",
        "```python\n",
        "pd.concat([df1, df2], axis=0, ignore_index=False, join='outer')\n",
        "```\n",
        "\n",
        "* `axis=0` → stack **rows** (default)\n",
        "* `axis=1` → stack **columns**\n",
        "* `ignore_index=True` → reset index in result\n",
        "* `join='outer'` → include all columns (fill missing with NaN)\n",
        "* `join='inner'` → include only columns common to all DataFrames\n",
        "\n",
        "---\n",
        "\n",
        "### 2. **Examples**\n",
        "\n",
        "#### a) **Vertical concatenation (stack rows)**\n",
        "\n",
        "```python\n",
        "import pandas as pd\n",
        "\n",
        "df1 = pd.DataFrame({'A':[1,2], 'B':[3,4]})\n",
        "df2 = pd.DataFrame({'A':[5,6], 'B':[7,8]})\n",
        "\n",
        "result = pd.concat([df1, df2])\n",
        "print(result)\n",
        "```\n",
        "\n",
        "**Output:**\n",
        "\n",
        "```\n",
        "   A  B\n",
        "0  1  3\n",
        "1  2  4\n",
        "0  5  7\n",
        "1  6  8\n",
        "```\n",
        "\n",
        "* Notice the **index is repeated**.\n",
        "* Use `ignore_index=True` to reset index:\n",
        "\n",
        "```python\n",
        "result = pd.concat([df1, df2], ignore_index=True)\n",
        "```\n",
        "\n",
        "**Output:**\n",
        "\n",
        "```\n",
        "   A  B\n",
        "0  1  3\n",
        "1  2  4\n",
        "2  5  7\n",
        "3  6  8\n",
        "```\n",
        "\n",
        "---\n",
        "\n",
        "#### b) **Horizontal concatenation (stack columns)**\n",
        "\n",
        "```python\n",
        "df3 = pd.DataFrame({'C':[9,10]})\n",
        "result = pd.concat([df1, df3], axis=1)\n",
        "print(result)\n",
        "```\n",
        "\n",
        "**Output:**\n",
        "\n",
        "```\n",
        "   A  B   C\n",
        "0  1  3   9\n",
        "1  2  4  10\n",
        "```\n",
        "\n",
        "---\n",
        "\n",
        "#### c) **Different columns**\n",
        "\n",
        "```python\n",
        "df4 = pd.DataFrame({'B':[11,12], 'D':[13,14]})\n",
        "result = pd.concat([df1, df4], ignore_index=True, sort=False)\n",
        "print(result)\n",
        "```\n",
        "\n",
        "**Output:**\n",
        "\n",
        "```\n",
        "     A   B     D\n",
        "0  1.0   3   NaN\n",
        "1  2.0   4   NaN\n",
        "2  NaN  11  13.0\n",
        "3  NaN  12  14.0\n",
        "```\n",
        "\n",
        "* Missing columns are filled with **NaN**.\n",
        "* Use `join='inner'` to keep only **common columns** (`B` in this case).\n",
        "\n",
        "---\n",
        "\n",
        "### 3. **Difference from `merge()`**\n",
        "\n",
        "| Feature      | `merge()`                      | `concat()`                                  |\n",
        "| ------------ | ------------------------------ | ------------------------------------------- |\n",
        "| Key/Index    | Requires a column or index     | Optional, mostly just stacks                |\n",
        "| Type of join | SQL-style (`inner`, `outer`)   | Axis-based stacking (`axis=0/1`)            |\n",
        "| Use case     | Combine based on relationships | Combine datasets top/bottom or side-by-side |\n",
        "\n",
        "---\n",
        "\n",
        "💡 **Quick tip:** Use `concat()` for **stacking similar DataFrames** quickly, and `merge()` for **joining based on keys/relationships**.\n",
        "\n",
        "---\n",
        "\n",
        "If you want, I can make a **visual diagram showing `concat` vs `merge` vs `join`**, which makes it super easy to remember. Do you want me to do that?\n"
      ],
      "metadata": {
        "id": "joUeN8I1nxmB"
      }
    },
    {
      "cell_type": "code",
      "source": [
        "import pandas as pd\n",
        "\n",
        "df1 = pd.DataFrame({'A':[1,2], 'B':[3,4]})\n",
        "df2 = pd.DataFrame({'A':[5,6], 'B':[7,8]})\n",
        "\n",
        "result = pd.concat([df1, df2])\n",
        "print(result)\n"
      ],
      "metadata": {
        "colab": {
          "base_uri": "https://localhost:8080/"
        },
        "id": "EuCctVpgm-Xn",
        "outputId": "142d1643-909a-41fc-fedb-c0b163c84556"
      },
      "execution_count": null,
      "outputs": [
        {
          "output_type": "stream",
          "name": "stdout",
          "text": [
            "   A  B\n",
            "0  1  3\n",
            "1  2  4\n",
            "0  5  7\n",
            "1  6  8\n"
          ]
        }
      ]
    },
    {
      "cell_type": "code",
      "source": [
        "result = pd.concat([df1, df2], ignore_index=True)\n",
        "print(result)\n",
        "\n"
      ],
      "metadata": {
        "colab": {
          "base_uri": "https://localhost:8080/"
        },
        "id": "VyxL8vfcoom2",
        "outputId": "6c88199e-edde-4a28-9c27-3f300c1c1a43"
      },
      "execution_count": null,
      "outputs": [
        {
          "output_type": "stream",
          "name": "stdout",
          "text": [
            "   A  B\n",
            "0  1  3\n",
            "1  2  4\n",
            "2  5  7\n",
            "3  6  8\n"
          ]
        }
      ]
    },
    {
      "cell_type": "code",
      "source": [
        "df3 = pd.DataFrame({'C':[9,10]})\n",
        "result = pd.concat([df1, df3], axis=1)\n",
        "print(result)\n"
      ],
      "metadata": {
        "colab": {
          "base_uri": "https://localhost:8080/"
        },
        "id": "_LfFkSW1osMn",
        "outputId": "1d5848f2-d4cd-4f7b-e9dc-9e923a708c91"
      },
      "execution_count": null,
      "outputs": [
        {
          "output_type": "stream",
          "name": "stdout",
          "text": [
            "   A  B   C\n",
            "0  1  3   9\n",
            "1  2  4  10\n"
          ]
        }
      ]
    },
    {
      "cell_type": "code",
      "source": [
        "df4 = pd.DataFrame({'B':[11,12], 'D':[13,14]})\n",
        "result = pd.concat([df1, df4], ignore_index=True, sort=False)\n",
        "print(result)\n"
      ],
      "metadata": {
        "colab": {
          "base_uri": "https://localhost:8080/"
        },
        "id": "j-onePVOoyj2",
        "outputId": "ad245d51-d33a-43a8-8cb8-731a1d325c95"
      },
      "execution_count": null,
      "outputs": [
        {
          "output_type": "stream",
          "name": "stdout",
          "text": [
            "     A   B     D\n",
            "0  1.0   3   NaN\n",
            "1  2.0   4   NaN\n",
            "2  NaN  11  13.0\n",
            "3  NaN  12  14.0\n"
          ]
        }
      ]
    },
    {
      "cell_type": "markdown",
      "source": [
        "#is python interpreted or compiled? how is memory managed?"
      ],
      "metadata": {
        "id": "_1Y5Q5KvpT6u"
      }
    },
    {
      "cell_type": "markdown",
      "source": [
        "Let’s break your questions into two parts for clarity:\n",
        "\n",
        "---\n",
        "\n",
        "## **1. Is Python interpreted or compiled?**\n",
        "\n",
        "Python is **primarily an interpreted language**, but the full story is a bit more nuanced:\n",
        "\n",
        "1. **Python source code (`.py`)** → **compiled to bytecode (`.pyc`)**\n",
        "\n",
        "   * Python code is first **compiled into bytecode**, which is a low-level, platform-independent representation of your code.\n",
        "   * This happens automatically when you run a script.\n",
        "\n",
        "2. **Bytecode execution by the interpreter**\n",
        "\n",
        "   * The **Python Virtual Machine (PVM)** executes the bytecode.\n",
        "   * This is why Python is called an **interpreted language**—because it’s the PVM that actually runs your code.\n",
        "\n",
        "**Example:**\n",
        "\n",
        "```python\n",
        "# test.py\n",
        "print(\"Hello World\")\n",
        "```\n",
        "\n",
        "When you run:\n",
        "\n",
        "```bash\n",
        "python test.py\n",
        "```\n",
        "\n",
        "* Python compiles `test.py` → `test.pyc` (bytecode)\n",
        "* PVM interprets the bytecode → prints `Hello World`\n",
        "\n",
        "✅ So, Python is **interpreted**, but technically it **does compile to bytecode** before interpretation.\n",
        "\n",
        "---\n",
        "\n",
        "## **2. How is memory managed in Python?**\n",
        "\n",
        "Python uses **automatic memory management** with **garbage collection**. Key points:\n",
        "\n",
        "### a) **Reference counting**\n",
        "\n",
        "* Every object in Python has a **reference count** (how many variables point to it).\n",
        "* When the reference count drops to zero → the object is **deleted automatically**.\n",
        "\n",
        "```python\n",
        "a = [1, 2, 3]\n",
        "b = a  # reference count increases\n",
        "del a  # reference count decreases\n",
        "# object still exists because b points to it\n",
        "del b  # reference count = 0 → memory freed\n",
        "```\n",
        "\n",
        "### b) **Garbage collector for cyclic references**\n",
        "\n",
        "* Reference counting alone can’t handle **cycles** (e.g., `a` references `b` and `b` references `a`).\n",
        "* Python uses a **garbage collector (`gc` module)** to detect and free such cycles automatically.\n",
        "\n",
        "### c) **Memory pools (for efficiency)**\n",
        "\n",
        "* Python **pre-allocates memory blocks** to reduce overhead (via the `pymalloc` allocator).\n",
        "* Small objects (less than 512 bytes) are allocated from these **pools**, improving performance.\n",
        "\n",
        "### d) **Dynamic typing**\n",
        "\n",
        "* Variables in Python are **references to objects**.\n",
        "* Memory is dynamically allocated as objects are created.\n",
        "\n",
        "---\n",
        "\n",
        "### **Summary**\n",
        "\n",
        "* **Interpreted or compiled?** → Python is **interpreted**, but source code is first compiled to **bytecode**.\n",
        "* **Memory management?** → Python uses **automatic memory management** via **reference counting**, **garbage collection**, and **memory pools**.\n",
        "\n",
        "---\n",
        "\n",
        "If you want, I can also draw a **diagram showing Python memory management and garbage collection**, which makes it super easy to visualize. Do you want me to do that?\n"
      ],
      "metadata": {
        "id": "gf6_ZAFRpWAT"
      }
    },
    {
      "cell_type": "markdown",
      "source": [
        "#how do you create and use virtual enivornment in python>?"
      ],
      "metadata": {
        "id": "b3Gs7gPuqwC4"
      }
    },
    {
      "cell_type": "markdown",
      "source": [
        "Creating and using **virtual environments** in Python is crucial for **isolating project dependencies** so that packages installed for one project don’t affect others. Here’s a clear step-by-step guide:\n",
        "\n",
        "---\n",
        "\n",
        "## **1. What is a virtual environment?**\n",
        "\n",
        "* A **self-contained Python environment** with its own Python interpreter and site-packages.\n",
        "* Useful for avoiding **package version conflicts** between projects.\n",
        "\n",
        "---\n",
        "\n",
        "## **2. Creating a virtual environment**\n",
        "\n",
        "### **Using `venv` (built-in in Python 3.3+)**\n",
        "\n",
        "1. Open terminal/command prompt and navigate to your project folder.\n",
        "2. Run:\n",
        "\n",
        "```bash\n",
        "python -m venv myenv\n",
        "```\n",
        "\n",
        "* `myenv` → name of your virtual environment folder\n",
        "* This creates a folder with:\n",
        "\n",
        "  * `bin/` (Linux/macOS) or `Scripts/` (Windows) → executables like `python` and `pip`\n",
        "  * `lib/` → Python libraries\n",
        "  * `pyvenv.cfg` → configuration\n",
        "\n",
        "---\n",
        "\n",
        "## **3. Activating the virtual environment**\n",
        "\n",
        "### **Windows**\n",
        "\n",
        "```bash\n",
        "myenv\\Scripts\\activate\n",
        "```\n",
        "\n",
        "### **Linux / macOS**\n",
        "\n",
        "```bash\n",
        "source myenv/bin/activate\n",
        "```\n",
        "\n",
        "* After activation, your terminal prompt will show `(myenv)` at the beginning.\n",
        "* Now, any Python or pip command uses this **environment’s Python interpreter**.\n",
        "\n",
        "---\n",
        "\n",
        "## **4. Installing packages**\n",
        "\n",
        "```bash\n",
        "pip install pandas\n",
        "pip install numpy\n",
        "```\n",
        "\n",
        "* These packages are installed **only in the virtual environment**, not globally.\n",
        "\n",
        "---\n",
        "\n",
        "## **5. Deactivating the virtual environment**\n",
        "\n",
        "```bash\n",
        "deactivate\n",
        "```\n",
        "\n",
        "* This returns you to the **system Python environment**.\n",
        "\n",
        "---\n",
        "\n",
        "## **6. Checking packages in the virtual environment**\n",
        "\n",
        "```bash\n",
        "pip list\n",
        "```\n",
        "\n",
        "* Lists packages installed in the **current virtual environment**.\n",
        "\n",
        "---\n",
        "\n",
        "## **7. Optional: Requirements file**\n",
        "\n",
        "* Save installed packages to a file for easy sharing:\n",
        "\n",
        "```bash\n",
        "pip freeze > requirements.txt\n",
        "```\n",
        "\n",
        "* Recreate the environment on another system:\n",
        "\n",
        "```bash\n",
        "pip install -r requirements.txt\n",
        "```\n",
        "\n",
        "---\n",
        "\n",
        "### ✅ **Summary**\n",
        "\n",
        "| Step              | Command                                                                         |\n",
        "| ----------------- | ------------------------------------------------------------------------------- |\n",
        "| Create env        | `python -m venv myenv`                                                          |\n",
        "| Activate env      | Windows: `myenv\\Scripts\\activate` <br> Linux/macOS: `source myenv/bin/activate` |\n",
        "| Install packages  | `pip install package_name`                                                      |\n",
        "| Deactivate env    | `deactivate`                                                                    |\n",
        "| Save packages     | `pip freeze > requirements.txt`                                                 |\n",
        "| Install from file | `pip install -r requirements.txt`                                               |\n",
        "\n",
        "---\n",
        "\n",
        "If you want, I can also explain **the difference between `venv`, `virtualenv`, and `conda environments`**, which is useful for choosing the right one for your projects. Do you want me to do that?\n"
      ],
      "metadata": {
        "id": "aeoHg4wpqgbS"
      }
    },
    {
      "cell_type": "markdown",
      "source": [
        "#  what are lambda functions provide an example\n"
      ],
      "metadata": {
        "id": "468B6Vp-rCaz"
      }
    },
    {
      "cell_type": "markdown",
      "source": [
        "In Python, **lambda functions** are **anonymous, small, single-expression functions** that are defined without a name using the `lambda` keyword. They are often used for short, simple operations where a full `def` function would be overkill.\n",
        "\n",
        "---\n",
        "\n",
        "## **1. Syntax**\n",
        "\n",
        "```python\n",
        "lambda arguments: expression\n",
        "```\n",
        "\n",
        "* `arguments` → input parameters (like normal function arguments)\n",
        "* `expression` → evaluated and returned automatically (no `return` needed)\n",
        "\n",
        "---\n",
        "\n",
        "## **2. Example 1: Simple addition**\n",
        "\n",
        "```python\n",
        "# Regular function\n",
        "def add(x, y):\n",
        "    return x + y\n",
        "\n",
        "print(add(5, 3))  # Output: 8\n",
        "\n",
        "# Lambda function\n",
        "add_lambda = lambda x, y: x + y\n",
        "print(add_lambda(5, 3))  # Output: 8\n",
        "```\n",
        "\n",
        "---\n",
        "\n",
        "## **3. Example 2: Square of a number**\n",
        "\n",
        "```python\n",
        "square = lambda x: x**2\n",
        "print(square(6))  # Output: 36\n",
        "```\n",
        "\n",
        "---\n",
        "\n",
        "## **4. Example 3: Using lambda with `map()`**\n",
        "\n",
        "```python\n",
        "numbers = [1, 2, 3, 4]\n",
        "squared = list(map(lambda x: x**2, numbers))\n",
        "print(squared)  # Output: [1, 4, 9, 16]\n",
        "```\n",
        "\n",
        "---\n",
        "\n",
        "## **5. Example 4: Using lambda with `filter()`**\n",
        "\n",
        "```python\n",
        "numbers = [1, 2, 3, 4, 5, 6]\n",
        "even_numbers = list(filter(lambda x: x % 2 == 0, numbers))\n",
        "print(even_numbers)  # Output: [2, 4, 6]\n",
        "```\n",
        "\n",
        "---\n",
        "\n",
        "### ✅ **Key points**\n",
        "\n",
        "* Lambda functions **cannot contain multiple expressions or statements**.\n",
        "* Useful for **short, one-line functions**, often as arguments to `map()`, `filter()`, `reduce()`, or `sorted()`.\n",
        "* They **return the result automatically**, no `return` keyword is needed.\n",
        "\n",
        "---\n",
        "\n",
        "If you want, I can make a **quick comparison table showing `lambda` vs `def` functions**, which helps remember when to use each. Do you want me to do that?\n"
      ],
      "metadata": {
        "id": "TE34KJz1rFbp"
      }
    },
    {
      "cell_type": "markdown",
      "source": [
        "#how to check if a key exist in a dictionary"
      ],
      "metadata": {
        "id": "hXIV_zvxbcni"
      }
    },
    {
      "cell_type": "code",
      "source": [
        "my_dict = {\"a\": 1, \"b\": 2}\n",
        "\n",
        "print(1 in my_dict.values())   # True\n",
        "print(3 in my_dict.values())   # False\n"
      ],
      "metadata": {
        "colab": {
          "base_uri": "https://localhost:8080/"
        },
        "id": "aMolb_bCb1TO",
        "outputId": "72e6c632-7d39-47f3-aaa4-e0b7b862feb3"
      },
      "execution_count": null,
      "outputs": [
        {
          "output_type": "stream",
          "name": "stdout",
          "text": [
            "True\n",
            "False\n"
          ]
        }
      ]
    },
    {
      "cell_type": "code",
      "source": [
        "print(\"a\" in my_dict)          # True  (checks keys)\n",
        "print(1 in my_dict)            # False (does NOT check values!)\n",
        "print(1 in my_dict.values())   # True  (checks values)\n"
      ],
      "metadata": {
        "id": "Tgth_vzpo0yB",
        "colab": {
          "base_uri": "https://localhost:8080/"
        },
        "outputId": "f261518c-e2de-4a08-edfe-095c23cb1dc3"
      },
      "execution_count": null,
      "outputs": [
        {
          "output_type": "stream",
          "name": "stdout",
          "text": [
            "True\n",
            "False\n",
            "True\n"
          ]
        }
      ]
    },
    {
      "cell_type": "markdown",
      "source": [
        "Short answer: use the `in` operator.\n",
        "\n",
        "### Examples\n",
        "\n",
        "```python\n",
        "d = {'a': 1, 'b': 2}\n",
        "\n",
        "# Preferred — checks keys\n",
        "if 'a' in d:\n",
        "    print(\"key exists\")\n",
        "\n",
        "# Get value safely (returns None or your default if key missing)\n",
        "val = d.get('c')         # returns None\n",
        "val = d.get('c', 0)      # returns 0 (default)\n",
        "\n",
        "# Access and handle missing key\n",
        "try:\n",
        "    val = d['c']\n",
        "except KeyError:\n",
        "    print(\"key not found\")\n",
        "\n",
        "# Check using keys() (works but unnecessary)\n",
        "if 'b' in d.keys():\n",
        "    print(\"exists\")\n",
        "```\n",
        "\n",
        "Notes:\n",
        "\n",
        "* `key in d` is the idiomatic, fastest way to test existence of a key.\n",
        "* `d.get(key)` both checks and returns the value; be careful if stored values can be `None` — use a unique default if needed (`d.get(key, sentinel)`).\n",
        "* Use `try/except KeyError` when you intend to access the value and handle missing keys.\n",
        "\n",
        "Want a one-liner to check and do something with the value?\n",
        "`val = d.get('k'); if val is not None: ...` (but remember the `None` caveat).\n"
      ],
      "metadata": {
        "id": "KTDCFv7Ibk0h"
      }
    },
    {
      "cell_type": "markdown",
      "source": [
        "Yes 👍 that works perfectly.\n",
        "\n",
        "In your code:\n",
        "\n",
        "```python\n",
        "my_dict = {\"a\":1, \"b\":2}\n",
        "print(\"a\" in my_dict)\n",
        "```\n",
        "\n",
        "* `\"a\" in my_dict` checks whether `\"a\"` is a **key** in `my_dict`.\n",
        "* Since `\"a\"` **is a key**, it will print:\n",
        "\n",
        "```\n",
        "True\n",
        "```\n",
        "\n",
        "⚡Important:\n",
        "\n",
        "* The `in` operator for dictionaries always checks **keys**, not values.\n",
        "  So, for example:\n",
        "\n",
        "```python\n",
        "print(1 in my_dict)   # False (1 is a value, not a key)\n",
        "print(\"b\" in my_dict) # True\n",
        "```\n",
        "\n",
        "Do you also want me to show you how to check if a **value** exists in the dictionary?\n"
      ],
      "metadata": {
        "id": "1jWQ5Cz2bp34"
      }
    },
    {
      "cell_type": "markdown",
      "source": [
        "Got it 👍\n",
        "To check if a **value** exists in a dictionary, you use `.values()` instead of just the dictionary itself.\n",
        "\n",
        "### Example:\n",
        "\n",
        "```python\n",
        "my_dict = {\"a\": 1, \"b\": 2}\n",
        "\n",
        "print(1 in my_dict.values())   # True\n",
        "print(3 in my_dict.values())   # False\n",
        "```\n",
        "\n",
        "### Comparing:\n",
        "\n",
        "```python\n",
        "print(\"a\" in my_dict)          # True  (checks keys)\n",
        "print(1 in my_dict)            # False (does NOT check values!)\n",
        "print(1 in my_dict.values())   # True  (checks values)\n",
        "```\n",
        "\n",
        "👉 If you want to check in both keys and values, you can do:\n",
        "\n",
        "```python\n",
        "print(1 in my_dict.keys() or 1 in my_dict.values())\n",
        "```\n",
        "\n",
        "Do you also want me to show you how to **find the key for a given value** (like reverse lookup)?\n"
      ],
      "metadata": {
        "id": "Rw_9BGhxbufL"
      }
    },
    {
      "cell_type": "markdown",
      "source": [
        "#difference b/w copy() and deepcopy()"
      ],
      "metadata": {
        "id": "6tG0Zr5Xcyx6"
      }
    },
    {
      "cell_type": "code",
      "source": [
        "import copy\n",
        "\n",
        "list1 = [[1, 2], [3, 4]]\n",
        "shallow = copy.copy(list1)\n",
        "\n",
        "shallow[0][0] = 99\n",
        "\n",
        "print(\"Original:\", list1)   # [[99, 2], [3, 4]]\n",
        "print(\"Shallow:\", shallow)  # [[99, 2], [3, 4]]\n"
      ],
      "metadata": {
        "colab": {
          "base_uri": "https://localhost:8080/"
        },
        "id": "ViqsmmdOcyOB",
        "outputId": "6d85af5c-8b99-4797-c6bc-67b1c7fe4eb9"
      },
      "execution_count": null,
      "outputs": [
        {
          "output_type": "stream",
          "name": "stdout",
          "text": [
            "Original: [[99, 2], [3, 4]]\n",
            "Shallow: [[99, 2], [3, 4]]\n"
          ]
        }
      ]
    },
    {
      "cell_type": "code",
      "source": [
        "import copy\n",
        "\n",
        "list1 = [[1, 2], [3, 4]]\n",
        "deep = copy.deepcopy(list1)\n",
        "\n",
        "deep[0][0] = 99\n",
        "\n",
        "print(\"Original:\", list1)  # [[1, 2], [3, 4]]\n",
        "print(\"Deep:\", deep)       # [[99, 2], [3, 4]]\n"
      ],
      "metadata": {
        "id": "H-IJxlC6dYfX",
        "outputId": "f4629b23-c111-459c-c574-9d1ce9464e0e",
        "colab": {
          "base_uri": "https://localhost:8080/"
        }
      },
      "execution_count": null,
      "outputs": [
        {
          "output_type": "stream",
          "name": "stdout",
          "text": [
            "Original: [[1, 2], [3, 4]]\n",
            "Deep: [[99, 2], [3, 4]]\n"
          ]
        }
      ]
    },
    {
      "cell_type": "markdown",
      "source": [
        "Great question 👍 This one confuses a lot of people because `copy()` and `deepcopy()` behave differently depending on whether the object contains nested structures.\n",
        "\n",
        "---\n",
        "\n",
        "## **1. `copy.copy()` (Shallow Copy)**\n",
        "\n",
        "* Creates a **new object**, but only copies the references of nested objects.\n",
        "* The outer object is independent, but the **inner/nested objects are shared** between original and copy.\n",
        "\n",
        "### Example:\n",
        "\n",
        "```python\n",
        "import copy\n",
        "\n",
        "list1 = [[1, 2], [3, 4]]\n",
        "shallow = copy.copy(list1)\n",
        "\n",
        "shallow[0][0] = 99\n",
        "\n",
        "print(\"Original:\", list1)   # [[99, 2], [3, 4]]\n",
        "print(\"Shallow:\", shallow)  # [[99, 2], [3, 4]]\n",
        "```\n",
        "\n",
        "👉 Changing the nested list inside `shallow` **affects the original** because they point to the same inner object.\n",
        "\n",
        "---\n",
        "\n",
        "## **2. `copy.deepcopy()`**\n",
        "\n",
        "* Creates a **completely new object**, including recursively copying all nested objects.\n",
        "* Original and copy are fully independent.\n",
        "\n",
        "### Example:\n",
        "\n",
        "```python\n",
        "import copy\n",
        "\n",
        "list1 = [[1, 2], [3, 4]]\n",
        "deep = copy.deepcopy(list1)\n",
        "\n",
        "deep[0][0] = 99\n",
        "\n",
        "print(\"Original:\", list1)  # [[1, 2], [3, 4]]\n",
        "print(\"Deep:\", deep)       # [[99, 2], [3, 4]]\n",
        "```\n",
        "\n",
        "👉 The original is **not affected**.\n",
        "\n",
        "---\n",
        "\n",
        "## ✅ Key Differences\n",
        "\n",
        "| Feature        | `copy.copy()` (Shallow)       | `copy.deepcopy()` (Deep)                    |\n",
        "| -------------- | ----------------------------- | ------------------------------------------- |\n",
        "| Outer object   | New copy                      | New copy                                    |\n",
        "| Nested objects | Shared (same reference)       | Fully copied (new objects)                  |\n",
        "| Performance    | Faster (less work)            | Slower (recursively copies)                 |\n",
        "| Use case       | When immutables or no nesting | When objects have mutable nested structures |\n",
        "\n",
        "---\n",
        "\n",
        "⚡ Quick rule of thumb:\n",
        "\n",
        "* Use `copy()` when your object is **flat** (no nested mutable objects).\n",
        "* Use `deepcopy()` when your object has **nested mutable objects** (lists inside dicts, dicts inside lists, etc.).\n",
        "\n",
        "---\n",
        "\n",
        "Do you want me to also show you this with a **dictionary example** (since you were working with dicts earlier)?\n"
      ],
      "metadata": {
        "id": "nKCNGeCedOp8"
      }
    },
    {
      "cell_type": "markdown",
      "source": [
        "#what are python generators? how are they different from lists?"
      ],
      "metadata": {
        "id": "ReVa-YwHW0sm"
      }
    },
    {
      "cell_type": "markdown",
      "source": [
        "Excellent question — this is a very **common interview topic** in Python.\n",
        "Let’s break it down clearly 👇\n",
        "\n",
        "---\n",
        "\n",
        "## 🧠 What are **Python Generators**?\n",
        "\n",
        "A **generator** is a special kind of **iterable** in Python (like lists, tuples, etc.) that allows you to **generate items one at a time**, instead of storing them all in memory.\n",
        "\n",
        "They are **used to produce a sequence of values lazily** — that means values are generated only when requested, not all at once.\n",
        "\n",
        "### ✅ How to Create a Generator:\n",
        "\n",
        "There are **two main ways** to create a generator:\n",
        "\n",
        "#### 1. **Using a generator function (with `yield`)**\n",
        "\n",
        "```python\n",
        "def count_up_to(n):\n",
        "    count = 1\n",
        "    while count <= n:\n",
        "        yield count\n",
        "        count += 1\n",
        "\n",
        "gen = count_up_to(5)\n",
        "print(gen)  # <generator object count_up_to at 0x...>\n",
        "\n",
        "for num in gen:\n",
        "    print(num)\n",
        "```\n",
        "\n",
        "**Output:**\n",
        "\n",
        "```\n",
        "1\n",
        "2\n",
        "3\n",
        "4\n",
        "5\n",
        "```\n",
        "\n",
        "Here, the function doesn’t return all values at once —\n",
        "it **yields one value at a time**, and remembers its state between calls.\n",
        "\n",
        "---\n",
        "\n",
        "#### 2. **Using Generator Expression**\n",
        "\n",
        "Similar to list comprehensions, but with parentheses `()` instead of square brackets `[]`.\n",
        "\n",
        "```python\n",
        "gen = (x*x for x in range(5))\n",
        "print(next(gen))  # 0\n",
        "print(next(gen))  # 1\n",
        "```\n",
        "\n",
        "---\n",
        "\n",
        "## ⚡ Difference Between **Generators** and **Lists**\n",
        "\n",
        "| Feature             | **Generator**                                          | **List**                                    |\n",
        "| ------------------- | ------------------------------------------------------ | ------------------------------------------- |\n",
        "| **Memory usage**    | Lazy — generates one item at a time (memory-efficient) | Stores all elements in memory               |\n",
        "| **Syntax**          | Uses `yield` or `()` (generator expression)            | Uses `[]`                                   |\n",
        "| **Execution**       | Values produced **on demand**                          | All values created **immediately**          |\n",
        "| **Iterable again?** | Can be iterated only **once**                          | Can be iterated **multiple times**          |\n",
        "| **Performance**     | Faster for large datasets                              | Slower for huge datasets due to memory load |\n",
        "| **Example**         | `(x*x for x in range(10**6))`                          | `[x*x for x in range(10**6)]`               |\n",
        "\n",
        "---\n",
        "\n",
        "### 🧩 Example Comparison\n",
        "\n",
        "```python\n",
        "# List comprehension\n",
        "nums_list = [x*x for x in range(1000000)]  # takes a lot of memory\n",
        "\n",
        "# Generator expression\n",
        "nums_gen = (x*x for x in range(1000000))  # memory efficient\n",
        "```\n",
        "\n",
        "You can verify memory usage:\n",
        "\n",
        "```python\n",
        "import sys\n",
        "print(sys.getsizeof(nums_list))  # ~8,000,000 bytes\n",
        "print(sys.getsizeof(nums_gen))   # ~120 bytes\n",
        "```\n",
        "\n",
        "---\n",
        "\n",
        "## 💡 When to Use Generators?\n",
        "\n",
        "✅ When working with **large datasets** (e.g., reading files line by line)\n",
        "✅ When you don’t need to store all values in memory\n",
        "✅ When you want to **stream data** or handle infinite sequences\n",
        "\n",
        "---\n",
        "\n",
        "### 🧠 Real-world Example — Reading Large Files\n",
        "\n",
        "```python\n",
        "def read_large_file(file_name):\n",
        "    with open(file_name) as f:\n",
        "        for line in f:\n",
        "            yield line.strip()\n",
        "\n",
        "for line in read_large_file(\"big_log.txt\"):\n",
        "    process(line)\n",
        "```\n",
        "\n",
        "👉 Only one line is loaded into memory at a time.\n",
        "\n",
        "---\n",
        "\n",
        "Would you like me to show a **visual memory comparison** between a generator and a list (using code output or diagram)?\n"
      ],
      "metadata": {
        "id": "QTV31zx7W6jA"
      }
    },
    {
      "cell_type": "code",
      "source": [
        "def count_up_to(n):\n",
        "    count = 1\n",
        "    while count <= n:\n",
        "        yield count\n",
        "        count += 1\n",
        "\n",
        "gen = count_up_to(5)\n",
        "print(gen)  # <generator object count_up_to at 0x...>\n",
        "\n",
        "for num in gen:\n",
        "    print(num)\n"
      ],
      "metadata": {
        "colab": {
          "base_uri": "https://localhost:8080/"
        },
        "id": "k5JvKKJoW6P7",
        "outputId": "9309dba1-8162-4205-fec9-a11551f63ec7"
      },
      "execution_count": 1,
      "outputs": [
        {
          "output_type": "stream",
          "name": "stdout",
          "text": [
            "<generator object count_up_to at 0x7a9b6c37c940>\n",
            "1\n",
            "2\n",
            "3\n",
            "4\n",
            "5\n"
          ]
        }
      ]
    },
    {
      "cell_type": "code",
      "source": [
        "gen = (x*x for x in range(5))\n",
        "print(next(gen))  # 0\n",
        "print(next(gen))  # 1\n"
      ],
      "metadata": {
        "colab": {
          "base_uri": "https://localhost:8080/"
        },
        "id": "mfng2A77Z7cm",
        "outputId": "99826479-bcc1-455f-97c0-eab01fc80aa8"
      },
      "execution_count": 2,
      "outputs": [
        {
          "output_type": "stream",
          "name": "stdout",
          "text": [
            "0\n",
            "1\n"
          ]
        }
      ]
    },
    {
      "cell_type": "code",
      "source": [
        "# List comprehension\n",
        "nums_list = [x*x for x in range(1000000)]  # takes a lot of memory\n",
        "\n",
        "# Generator expression\n",
        "nums_gen = (x*x for x in range(1000000))  # memory efficient\n"
      ],
      "metadata": {
        "id": "UhED7YLJaAAj"
      },
      "execution_count": 3,
      "outputs": []
    },
    {
      "cell_type": "code",
      "source": [
        "import sys\n",
        "print(sys.getsizeof(nums_list))  # ~8,000,000 bytes\n",
        "print(sys.getsizeof(nums_gen))   # ~120 bytes\n"
      ],
      "metadata": {
        "colab": {
          "base_uri": "https://localhost:8080/"
        },
        "id": "H903YHoBaBzy",
        "outputId": "55597ab9-01f9-4a40-fe64-281ed506d6b0"
      },
      "execution_count": 4,
      "outputs": [
        {
          "output_type": "stream",
          "name": "stdout",
          "text": [
            "8448728\n",
            "200\n"
          ]
        }
      ]
    },
    {
      "cell_type": "code",
      "source": [
        "def read_large_file(file_name):\n",
        "    with open(file_name) as f:\n",
        "        for line in f:\n",
        "            yield line.strip()\n",
        "\n",
        "for line in read_large_file(\"big_log.txt\"):\n",
        "    process(line)\n"
      ],
      "metadata": {
        "colab": {
          "base_uri": "https://localhost:8080/",
          "height": 315
        },
        "id": "p0Pd5jz3aDee",
        "outputId": "686fccba-a60c-4521-c74c-ce519b752bb2"
      },
      "execution_count": 5,
      "outputs": [
        {
          "output_type": "error",
          "ename": "FileNotFoundError",
          "evalue": "[Errno 2] No such file or directory: 'big_log.txt'",
          "traceback": [
            "\u001b[0;31m---------------------------------------------------------------------------\u001b[0m",
            "\u001b[0;31mFileNotFoundError\u001b[0m                         Traceback (most recent call last)",
            "\u001b[0;32m/tmp/ipython-input-3207150865.py\u001b[0m in \u001b[0;36m<cell line: 0>\u001b[0;34m()\u001b[0m\n\u001b[1;32m      4\u001b[0m             \u001b[0;32myield\u001b[0m \u001b[0mline\u001b[0m\u001b[0;34m.\u001b[0m\u001b[0mstrip\u001b[0m\u001b[0;34m(\u001b[0m\u001b[0;34m)\u001b[0m\u001b[0;34m\u001b[0m\u001b[0;34m\u001b[0m\u001b[0m\n\u001b[1;32m      5\u001b[0m \u001b[0;34m\u001b[0m\u001b[0m\n\u001b[0;32m----> 6\u001b[0;31m \u001b[0;32mfor\u001b[0m \u001b[0mline\u001b[0m \u001b[0;32min\u001b[0m \u001b[0mread_large_file\u001b[0m\u001b[0;34m(\u001b[0m\u001b[0;34m\"big_log.txt\"\u001b[0m\u001b[0;34m)\u001b[0m\u001b[0;34m:\u001b[0m\u001b[0;34m\u001b[0m\u001b[0;34m\u001b[0m\u001b[0m\n\u001b[0m\u001b[1;32m      7\u001b[0m     \u001b[0mprocess\u001b[0m\u001b[0;34m(\u001b[0m\u001b[0mline\u001b[0m\u001b[0;34m)\u001b[0m\u001b[0;34m\u001b[0m\u001b[0;34m\u001b[0m\u001b[0m\n",
            "\u001b[0;32m/tmp/ipython-input-3207150865.py\u001b[0m in \u001b[0;36mread_large_file\u001b[0;34m(file_name)\u001b[0m\n\u001b[1;32m      1\u001b[0m \u001b[0;32mdef\u001b[0m \u001b[0mread_large_file\u001b[0m\u001b[0;34m(\u001b[0m\u001b[0mfile_name\u001b[0m\u001b[0;34m)\u001b[0m\u001b[0;34m:\u001b[0m\u001b[0;34m\u001b[0m\u001b[0;34m\u001b[0m\u001b[0m\n\u001b[0;32m----> 2\u001b[0;31m     \u001b[0;32mwith\u001b[0m \u001b[0mopen\u001b[0m\u001b[0;34m(\u001b[0m\u001b[0mfile_name\u001b[0m\u001b[0;34m)\u001b[0m \u001b[0;32mas\u001b[0m \u001b[0mf\u001b[0m\u001b[0;34m:\u001b[0m\u001b[0;34m\u001b[0m\u001b[0;34m\u001b[0m\u001b[0m\n\u001b[0m\u001b[1;32m      3\u001b[0m         \u001b[0;32mfor\u001b[0m \u001b[0mline\u001b[0m \u001b[0;32min\u001b[0m \u001b[0mf\u001b[0m\u001b[0;34m:\u001b[0m\u001b[0;34m\u001b[0m\u001b[0;34m\u001b[0m\u001b[0m\n\u001b[1;32m      4\u001b[0m             \u001b[0;32myield\u001b[0m \u001b[0mline\u001b[0m\u001b[0;34m.\u001b[0m\u001b[0mstrip\u001b[0m\u001b[0;34m(\u001b[0m\u001b[0;34m)\u001b[0m\u001b[0;34m\u001b[0m\u001b[0;34m\u001b[0m\u001b[0m\n\u001b[1;32m      5\u001b[0m \u001b[0;34m\u001b[0m\u001b[0m\n",
            "\u001b[0;31mFileNotFoundError\u001b[0m: [Errno 2] No such file or directory: 'big_log.txt'"
          ]
        }
      ]
    },
    {
      "cell_type": "code",
      "source": [],
      "metadata": {
        "id": "GcURL0ciaJ3K"
      },
      "execution_count": null,
      "outputs": []
    }
  ]
}